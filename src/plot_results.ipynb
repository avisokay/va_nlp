{
 "cells": [
  {
   "cell_type": "code",
   "execution_count": 6,
   "id": "f5e6f741",
   "metadata": {},
   "outputs": [],
   "source": [
    "import pandas as pd\n",
    "import numpy as np\n",
    "import glob\n",
    "import matplotlib.pyplot as plt\n",
    "import seaborn as sns"
   ]
  },
  {
   "cell_type": "code",
   "execution_count": 15,
   "id": "4a29d116",
   "metadata": {},
   "outputs": [],
   "source": [
    "# GitHub CSV file URL\n",
    "url = 'https://raw.githubusercontent.com/avisokay/va_nlp/main/data/phmrc/phmrc_adult_tokenized.csv'\n",
    "df = pd.read_csv(url)"
   ]
  },
  {
   "cell_type": "code",
   "execution_count": 16,
   "id": "56ab13fe",
   "metadata": {},
   "outputs": [],
   "source": [
    "sites = df['site'].unique()"
   ]
  },
  {
   "cell_type": "code",
   "execution_count": 21,
   "id": "fed8f432",
   "metadata": {},
   "outputs": [],
   "source": [
    "test = pd.read_csv('../src/classic_nlp/classic_predictions_ex_ap.csv')"
   ]
  },
  {
   "cell_type": "code",
   "execution_count": 24,
   "id": "1091215e",
   "metadata": {},
   "outputs": [
    {
     "name": "stdout",
     "output_type": "stream",
     "text": [
      "DataFrame for ../src/classic_nlp/classic_predictions_ex_bohol.csv:\n",
      "      Unnamed: 0  Y  X_unlabeled  Yhat_NB  Yhat_SVM  Yhat_KNN\n",
      "0              0  1           51        1         1         1\n",
      "1              1  3           24        3         3         3\n",
      "2              2  1           62        3         1         1\n",
      "3              3  3           80        3         3         4\n",
      "4              4  3           76        3         3         3\n",
      "...          ... ..          ...      ...       ...       ...\n",
      "9984         883  3           35        3         3         3\n",
      "9985         884  1           83        3         1         3\n",
      "9986         885  3           17        3         3         3\n",
      "9987         886  3           20        3         3         3\n",
      "9988         887  1           60        3         3         3\n",
      "\n",
      "[9989 rows x 6 columns]\n",
      "DataFrame for ../src/classic_nlp/classic_predictions_ex_dar.csv:\n",
      "       Unnamed: 0  Y  X_unlabeled  Yhat_NB  Yhat_SVM  Yhat_KNN\n",
      "0               0  3           51        3         1         1\n",
      "1               1  4           24        3         3         3\n",
      "2               2  3           62        3         3         3\n",
      "3               3  1           80        3         3         4\n",
      "4               4  3           76        3         1         3\n",
      "...           ... ..          ...      ...       ...       ...\n",
      "11751        1040  3           30        3         3         3\n",
      "11752        1041  3           23        3         3         3\n",
      "11753        1042  3           16        3         1         3\n",
      "11754        1043  1           76        3         1         3\n",
      "11755        1044  3           65        3         3         3\n",
      "\n",
      "[11756 rows x 6 columns]\n",
      "DataFrame for ../src/classic_nlp/classic_predictions_ex_pemba.csv:\n",
      "       Unnamed: 0  Y  X_unlabeled  Yhat_NB  Yhat_SVM  Yhat_KNN\n",
      "0               0  4           51        3         0         3\n",
      "1               1  3           24        3         3         3\n",
      "2               2  3           62        3         3         3\n",
      "3               3  3           80        3         3         3\n",
      "4               4  3           76        3         3         3\n",
      "...           ... ..          ...      ...       ...       ...\n",
      "12415        1099  3           40        3         1         3\n",
      "12416        1100  4           84        3         3         3\n",
      "12417        1101  0           37        3         3         3\n",
      "12418        1102  2           47        3         2         2\n",
      "12419        1103  0           55        3         3         3\n",
      "\n",
      "[12420 rows x 6 columns]\n",
      "DataFrame for ../src/classic_nlp/classic_predictions_ex_mexico.csv:\n",
      "       Unnamed: 0  Y  X_unlabeled  Yhat_NB  Yhat_SVM  Yhat_KNN\n",
      "0               0  3           51        3         3         3\n",
      "1               1  4           24        3         3         3\n",
      "2               2  0           62        3         3         3\n",
      "3               3  4           80        3         3         3\n",
      "4               4  3           76        3         0         0\n",
      "...           ... ..          ...      ...       ...       ...\n",
      "10299         911  3           43        3         3         3\n",
      "10300         912  3           35        3         3         0\n",
      "10301         913  3           70        3         3         3\n",
      "10302         914  1           40        3         1         1\n",
      "10303         915  4           48        3         1         1\n",
      "\n",
      "[10304 rows x 6 columns]\n",
      "DataFrame for ../src/classic_nlp/classic_predictions_ex_ap.csv:\n",
      "       Unnamed: 0  Y  X_unlabeled  Yhat_NB  Yhat_SVM  Yhat_KNN\n",
      "0               0  1           51        3         3         3\n",
      "1               1  0           24        3         3         3\n",
      "2               2  3           62        3         3         3\n",
      "3               3  3           80        3         3         3\n",
      "4               4  4           76        3         3         3\n",
      "...           ... ..          ...      ...       ...       ...\n",
      "14079        1247  3           35        3         3         3\n",
      "14080        1248  3           42        3         3         3\n",
      "14081        1249  3           75        3         3         1\n",
      "14082        1250  3           60        3         3         3\n",
      "14083        1251  4           90        3         3         3\n",
      "\n",
      "[14084 rows x 6 columns]\n",
      "DataFrame for ../src/classic_nlp/classic_predictions_ex_up.csv:\n",
      "      Unnamed: 0  Y  X_unlabeled  Yhat_NB  Yhat_SVM  Yhat_KNN\n",
      "0              0  1           51        3         1         1\n",
      "1              1  2           24        3         3         3\n",
      "2              2  3           62        3         3         3\n",
      "3              3  1           80        3         1         1\n",
      "4              4  0           76        3         3         2\n",
      "...          ... ..          ...      ...       ...       ...\n",
      "2335         203  1           58        3         1         1\n",
      "2336         204  2           68        2         2         2\n",
      "2337         205  3           76        3         3         1\n",
      "2338         206  0           58        3         3         2\n",
      "2339         207  2           24        3         3         3\n",
      "\n",
      "[2340 rows x 6 columns]\n"
     ]
    }
   ],
   "source": [
    "# read in classic predictions files\n",
    "file_pattern = '../src/classic_nlp/classic_predictions_ex_*.csv'\n",
    "csv_files = glob.glob(file_pattern)\n",
    "\n",
    "# Create a dictionary to store DataFrames\n",
    "dfs = {site: pd.read_csv(site) for site in csv_files}\n",
    "\n",
    "\n",
    "# Access the DataFrames using site names\n",
    "for site, df in dfs.items():\n",
    "    print(f\"DataFrame for {site}:\")\n",
    "    print(df)"
   ]
  },
  {
   "cell_type": "code",
   "execution_count": null,
   "id": "45440462",
   "metadata": {},
   "outputs": [],
   "source": []
  },
  {
   "cell_type": "code",
   "execution_count": null,
   "id": "cd5f9366",
   "metadata": {},
   "outputs": [],
   "source": []
  },
  {
   "cell_type": "markdown",
   "id": "c7e939d9",
   "metadata": {},
   "source": [
    "## Manually create results plot comparing accuracy and F1 for classic, bert, GPT-4 with non-classified and without."
   ]
  },
  {
   "cell_type": "code",
   "execution_count": 39,
   "id": "79e4e707",
   "metadata": {},
   "outputs": [],
   "source": [
    "accuracy_scores = [0.52, 0.62, 0.55, 0.55, 0.38]\n",
    "f1_scores = [0.64, 0.67, 0.58, 0.71, 0.45]\n",
    "columns_to_evaluate = ['NB', 'SVM', 'KNN', 'BERT', 'GPT4_zeroshot']"
   ]
  },
  {
   "cell_type": "code",
   "execution_count": 41,
   "id": "2a51c462",
   "metadata": {},
   "outputs": [],
   "source": [
    "accuracy_scores = [0.52, 0.62, 0.55, 0.55, 0.75]\n",
    "f1_scores = [0.64, 0.67, 0.58, 0.71, 0.73]\n",
    "columns_to_evaluate = ['NB', 'SVM', 'KNN', 'BERT', 'GPT4_zeroshot']"
   ]
  },
  {
   "cell_type": "code",
   "execution_count": 42,
   "id": "02ef2ddd",
   "metadata": {},
   "outputs": [
    {
     "data": {
      "image/png": "[encoded data removed]",
      "text/plain": [
       "<Figure size 640x480 with 1 Axes>"
      ]
     },
     "metadata": {},
     "output_type": "display_data"
    }
   ],
   "source": [
    "# Plot the results\n",
    "fig, ax = plt.subplots()\n",
    "\n",
    "bar_width = 0.35\n",
    "index = np.arange(len(columns_to_evaluate))\n",
    "\n",
    "bar1 = ax.bar(index, accuracy_scores, bar_width, label='Accuracy')\n",
    "bar2 = ax.bar(index + bar_width, f1_scores, bar_width, label='F1 Score')\n",
    "\n",
    "ax.set_xlabel('Predictions')\n",
    "ax.set_ylabel('Scores')\n",
    "ax.set_title('Accuracy and F1 Score for Each Prediction')\n",
    "ax.set_xticks(index + bar_width / 2)\n",
    "ax.set_xticklabels(columns_to_evaluate)\n",
    "plt.xticks(rotation=45)\n",
    "ax.legend()\n",
    "# Set y-axis range to 0-1\n",
    "ax.set_ylim(0, 1)\n",
    "\n",
    "# Add scores on top of each bar\n",
    "for i, (acc, f1) in enumerate(zip(accuracy_scores, f1_scores)):\n",
    "    ax.text(i, acc + 0.01, f'{acc:.2f}', ha='center', va='bottom', color='black', fontweight='bold')\n",
    "    ax.text(i + bar_width, f1 + 0.01, f'{f1:.2f}', ha='center', va='bottom', color='black', fontweight='bold')\n",
    "\n",
    "plt.show()"
   ]
  },
  {
   "cell_type": "markdown",
   "id": "78e5496a",
   "metadata": {},
   "source": [
    "## read in classic results and break into csv, save to results folder\n"
   ]
  },
  {
   "cell_type": "code",
   "execution_count": 43,
   "id": "f5d4cf39",
   "metadata": {},
   "outputs": [
    {
     "name": "stdout",
     "output_type": "stream",
     "text": [
      "mexico\n",
      "ap\n",
      "up\n",
      "dar\n",
      "bohol\n",
      "pemba\n"
     ]
    }
   ],
   "source": [
    "for site in sites:\n",
    "    print(site)"
   ]
  },
  {
   "cell_type": "code",
   "execution_count": 57,
   "id": "7df944b0",
   "metadata": {},
   "outputs": [],
   "source": [
    "test = pd.read_csv('../src/classic_nlp/classic_predictions_ex_mexico.csv')"
   ]
  },
  {
   "cell_type": "code",
   "execution_count": 58,
   "id": "2b307771",
   "metadata": {},
   "outputs": [
    {
     "data": {
      "text/html": [
       "<div>\n",
       "<style scoped>\n",
       "    .dataframe tbody tr th:only-of-type {\n",
       "        vertical-align: middle;\n",
       "    }\n",
       "\n",
       "    .dataframe tbody tr th {\n",
       "        vertical-align: top;\n",
       "    }\n",
       "\n",
       "    .dataframe thead th {\n",
       "        text-align: right;\n",
       "    }\n",
       "</style>\n",
       "<table border=\"1\" class=\"dataframe\">\n",
       "  <thead>\n",
       "    <tr style=\"text-align: right;\">\n",
       "      <th></th>\n",
       "      <th>Y</th>\n",
       "      <th>X_unlabeled</th>\n",
       "      <th>Yhat_NB</th>\n",
       "      <th>Yhat_SVM</th>\n",
       "      <th>Yhat_KNN</th>\n",
       "    </tr>\n",
       "  </thead>\n",
       "  <tbody>\n",
       "    <tr>\n",
       "      <th>0</th>\n",
       "      <td>4</td>\n",
       "      <td>51</td>\n",
       "      <td>4</td>\n",
       "      <td>2</td>\n",
       "      <td>2</td>\n",
       "    </tr>\n",
       "    <tr>\n",
       "      <th>1</th>\n",
       "      <td>0</td>\n",
       "      <td>24</td>\n",
       "      <td>4</td>\n",
       "      <td>4</td>\n",
       "      <td>4</td>\n",
       "    </tr>\n",
       "    <tr>\n",
       "      <th>2</th>\n",
       "      <td>4</td>\n",
       "      <td>62</td>\n",
       "      <td>4</td>\n",
       "      <td>4</td>\n",
       "      <td>4</td>\n",
       "    </tr>\n",
       "    <tr>\n",
       "      <th>3</th>\n",
       "      <td>2</td>\n",
       "      <td>80</td>\n",
       "      <td>4</td>\n",
       "      <td>4</td>\n",
       "      <td>0</td>\n",
       "    </tr>\n",
       "    <tr>\n",
       "      <th>4</th>\n",
       "      <td>4</td>\n",
       "      <td>76</td>\n",
       "      <td>4</td>\n",
       "      <td>2</td>\n",
       "      <td>4</td>\n",
       "    </tr>\n",
       "    <tr>\n",
       "      <th>...</th>\n",
       "      <td>...</td>\n",
       "      <td>...</td>\n",
       "      <td>...</td>\n",
       "      <td>...</td>\n",
       "      <td>...</td>\n",
       "    </tr>\n",
       "    <tr>\n",
       "      <th>1301</th>\n",
       "      <td>4</td>\n",
       "      <td>30</td>\n",
       "      <td>4</td>\n",
       "      <td>4</td>\n",
       "      <td>4</td>\n",
       "    </tr>\n",
       "    <tr>\n",
       "      <th>1302</th>\n",
       "      <td>4</td>\n",
       "      <td>23</td>\n",
       "      <td>4</td>\n",
       "      <td>4</td>\n",
       "      <td>4</td>\n",
       "    </tr>\n",
       "    <tr>\n",
       "      <th>1303</th>\n",
       "      <td>4</td>\n",
       "      <td>16</td>\n",
       "      <td>4</td>\n",
       "      <td>2</td>\n",
       "      <td>4</td>\n",
       "    </tr>\n",
       "    <tr>\n",
       "      <th>1304</th>\n",
       "      <td>2</td>\n",
       "      <td>76</td>\n",
       "      <td>4</td>\n",
       "      <td>2</td>\n",
       "      <td>4</td>\n",
       "    </tr>\n",
       "    <tr>\n",
       "      <th>1305</th>\n",
       "      <td>4</td>\n",
       "      <td>65</td>\n",
       "      <td>4</td>\n",
       "      <td>4</td>\n",
       "      <td>4</td>\n",
       "    </tr>\n",
       "  </tbody>\n",
       "</table>\n",
       "<p>1306 rows × 5 columns</p>\n",
       "</div>"
      ],
      "text/plain": [
       "      Y  X_unlabeled  Yhat_NB  Yhat_SVM  Yhat_KNN\n",
       "0     4           51        4         2         2\n",
       "1     0           24        4         4         4\n",
       "2     4           62        4         4         4\n",
       "3     2           80        4         4         0\n",
       "4     4           76        4         2         4\n",
       "...  ..          ...      ...       ...       ...\n",
       "1301  4           30        4         4         4\n",
       "1302  4           23        4         4         4\n",
       "1303  4           16        4         2         4\n",
       "1304  2           76        4         2         4\n",
       "1305  4           65        4         4         4\n",
       "\n",
       "[1306 rows x 5 columns]"
      ]
     },
     "execution_count": 58,
     "metadata": {},
     "output_type": "execute_result"
    }
   ],
   "source": [
    "test"
   ]
  },
  {
   "cell_type": "code",
   "execution_count": 63,
   "id": "3a99b80d",
   "metadata": {},
   "outputs": [],
   "source": [
    "nb_out = test[['Y', 'X_unlabeled', 'Yhat_KNN']]\n",
    "nb_out = nb_out.rename(columns={'X_unlabeled':'X',\n",
    "                                      'Yhat_KNN':'Y_hat'\n",
    "\n",
    "})"
   ]
  },
  {
   "cell_type": "code",
   "execution_count": 64,
   "id": "3928edb1",
   "metadata": {},
   "outputs": [],
   "source": [
    "nb_out.to_csv('../data/results/mexico_KNN.csv', index=False)"
   ]
  },
  {
   "cell_type": "code",
   "execution_count": null,
   "id": "ca2e0442",
   "metadata": {},
   "outputs": [],
   "source": []
  },
  {
   "cell_type": "code",
   "execution_count": null,
   "id": "5ce0a95d",
   "metadata": {},
   "outputs": [],
   "source": []
  },
  {
   "cell_type": "code",
   "execution_count": null,
   "id": "05d29979",
   "metadata": {},
   "outputs": [],
   "source": []
  },
  {
   "cell_type": "code",
   "execution_count": null,
   "id": "457f3f1d",
   "metadata": {},
   "outputs": [],
   "source": []
  },
  {
   "cell_type": "code",
   "execution_count": null,
   "id": "df93a1c7",
   "metadata": {},
   "outputs": [],
   "source": []
  },
  {
   "cell_type": "code",
   "execution_count": null,
   "id": "0c275eec",
   "metadata": {},
   "outputs": [],
   "source": []
  },
  {
   "cell_type": "code",
   "execution_count": null,
   "id": "143c50bc",
   "metadata": {},
   "outputs": [],
   "source": []
  }
 ],
 "metadata": {
  "kernelspec": {
   "display_name": "Python 3 (ipykernel)",
   "language": "python",
   "name": "python3"
  },
  "language_info": {
   "codemirror_mode": {
    "name": "ipython",
    "version": 3
   },
   "file_extension": ".py",
   "mimetype": "text/x-python",
   "name": "python",
   "nbconvert_exporter": "python",
   "pygments_lexer": "ipython3",
   "version": "3.11.5"
  }
 },
 "nbformat": 4,
 "nbformat_minor": 5
}
