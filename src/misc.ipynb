{
 "cells": [
  {
   "cell_type": "markdown",
   "id": "7bc66ec5",
   "metadata": {},
   "source": [
    "# $ Y_{\\text{true}} = \\hat{\\beta} X_{\\text{true}} $ <br>\n",
    "\n",
    "# $\\widehat{Y}_{\\text{predicted}} = \\widehat{\\hat{\\beta}} X_{\\text{true}}$"
   ]
  },
  {
   "cell_type": "markdown",
   "id": "85c0ed4b",
   "metadata": {},
   "source": [
    "# $ \\hat{\\beta} \\text{  !=  } \\widehat{\\hat{\\beta}}$ \n",
    "# $ \\text{SE}(\\widehat{\\hat{\\beta}}) > \\text{SE}(\\hat{\\beta})$ <br>"
   ]
  },
  {
   "cell_type": "markdown",
   "id": "050f6936",
   "metadata": {},
   "source": [
    "# $$ \\text{How do we get from } \\widehat{\\hat{\\beta}} \\text{  closer to  } \\hat{\\beta}? $$"
   ]
  },
  {
   "cell_type": "markdown",
   "id": "e5faffa2",
   "metadata": {},
   "source": [
    "# $ COD_{\\text{autopsy}} = \\hat{\\beta} Age_{\\text{true}} $ <br>\n",
    "\n",
    "# $\\widehat{COD}_{\\text{VA + NLP}} = \\widehat{\\hat{\\beta}} Age_{\\text{true}}$"
   ]
  },
  {
   "cell_type": "code",
   "execution_count": null,
   "id": "e69e6a43",
   "metadata": {},
   "outputs": [],
   "source": []
  },
  {
   "cell_type": "code",
   "execution_count": null,
   "id": "462c6342",
   "metadata": {},
   "outputs": [],
   "source": []
  },
  {
   "cell_type": "code",
   "execution_count": null,
   "id": "15adbbc7",
   "metadata": {},
   "outputs": [],
   "source": []
  },
  {
   "cell_type": "code",
   "execution_count": null,
   "id": "c317362a",
   "metadata": {},
   "outputs": [],
   "source": []
  },
  {
   "cell_type": "markdown",
   "id": "648078af",
   "metadata": {},
   "source": []
  }
 ],
 "metadata": {
  "kernelspec": {
   "display_name": "Python 3 (ipykernel)",
   "language": "python",
   "name": "python3"
  },
  "language_info": {
   "codemirror_mode": {
    "name": "ipython",
    "version": 3
   },
   "file_extension": ".py",
   "mimetype": "text/x-python",
   "name": "python",
   "nbconvert_exporter": "python",
   "pygments_lexer": "ipython3",
   "version": "3.11.5"
  }
 },
 "nbformat": 4,
 "nbformat_minor": 5
}
