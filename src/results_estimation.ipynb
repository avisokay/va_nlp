{
 "cells": [
  {
   "cell_type": "markdown",
   "id": "17b15162",
   "metadata": {},
   "source": [
    "# This is where I estimate baseline, naive, and ppi corrected inference parameters for each model classic, bert and gpt_zeroshot"
   ]
  },
  {
   "cell_type": "code",
   "execution_count": 25,
   "id": "b272c926",
   "metadata": {},
   "outputs": [],
   "source": [
    "import pandas as pd\n",
    "import numpy as np\n",
    "import os\n",
    "import sys\n",
    "# load custom local packages\n",
    "from dataset_utils import dataframe_decorator\n",
    "from statistics_utils import *\n",
    "from ppi_plusplus_multi import *"
   ]
  },
  {
   "cell_type": "markdown",
   "id": "0caa99ee",
   "metadata": {},
   "source": [
    "## load data"
   ]
  },
  {
   "cell_type": "code",
   "execution_count": 35,
   "id": "6001933e",
   "metadata": {},
   "outputs": [],
   "source": [
    "df = pd.read_csv('../src/gpt_nlp/results_df.csv')\n",
    "mexico_knn = pd.read_csv('../data/results/mexico_KNN.csv')\n",
    "mexico_bert = pd.read_csv('../data/results/mexico_bert.csv')\n",
    "mexico_gpt4zs = pd.read_csv('../data/results/mexico_gpt4_zs.csv')"
   ]
  },
  {
   "cell_type": "code",
   "execution_count": null,
   "id": "fc88f56d",
   "metadata": {},
   "outputs": [],
   "source": []
  },
  {
   "cell_type": "code",
   "execution_count": 40,
   "id": "9357eb42",
   "metadata": {},
   "outputs": [],
   "source": [
    "## 80/20 data split\n",
    "## Baseline: 100% labeled data\n",
    "## Naive: 20% labeled, 80% unlabeled\n",
    "## PPI++: 20% labeled, 80% unlabeled\n",
    "### MUST BE THE SAME OBSERVATIONS - needs to match"
   ]
  },
  {
   "cell_type": "code",
   "execution_count": null,
   "id": "6c51b6b7",
   "metadata": {},
   "outputs": [],
   "source": []
  },
  {
   "cell_type": "code",
   "execution_count": null,
   "id": "a1ff3cae",
   "metadata": {},
   "outputs": [],
   "source": []
  },
  {
   "cell_type": "code",
   "execution_count": null,
   "id": "8dcc9dce",
   "metadata": {},
   "outputs": [],
   "source": []
  },
  {
   "cell_type": "code",
   "execution_count": null,
   "id": "9058670d",
   "metadata": {},
   "outputs": [],
   "source": []
  },
  {
   "cell_type": "code",
   "execution_count": null,
   "id": "5a286864",
   "metadata": {},
   "outputs": [],
   "source": []
  },
  {
   "cell_type": "code",
   "execution_count": null,
   "id": "75d1269c",
   "metadata": {},
   "outputs": [],
   "source": []
  },
  {
   "cell_type": "code",
   "execution_count": null,
   "id": "544fc3ff",
   "metadata": {},
   "outputs": [],
   "source": []
  },
  {
   "cell_type": "code",
   "execution_count": null,
   "id": "adddb2bb",
   "metadata": {},
   "outputs": [],
   "source": []
  },
  {
   "cell_type": "code",
   "execution_count": null,
   "id": "8485453b",
   "metadata": {},
   "outputs": [],
   "source": []
  },
  {
   "cell_type": "code",
   "execution_count": null,
   "id": "25d5e7e2",
   "metadata": {},
   "outputs": [],
   "source": []
  }
 ],
 "metadata": {
  "kernelspec": {
   "display_name": "Python 3 (ipykernel)",
   "language": "python",
   "name": "python3"
  },
  "language_info": {
   "codemirror_mode": {
    "name": "ipython",
    "version": 3
   },
   "file_extension": ".py",
   "mimetype": "text/x-python",
   "name": "python",
   "nbconvert_exporter": "python",
   "pygments_lexer": "ipython3",
   "version": "3.11.5"
  }
 },
 "nbformat": 4,
 "nbformat_minor": 5
}
