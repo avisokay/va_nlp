{
 "cells": [
  {
   "cell_type": "code",
   "execution_count": 11,
   "id": "fc087782",
   "metadata": {
    "scrolled": true
   },
   "outputs": [],
   "source": [
    "import openai\n",
    "import pandas as pd\n",
    "import time\n",
    "from tqdm import tqdm\n",
    "from dotenv import load_dotenv\n",
    "import os\n",
    "\n",
    "import warnings\n",
    "warnings.filterwarnings(\"ignore\")\n",
    "\n",
    "load_dotenv()\n",
    "openai.api_key=os.getenv(\"OPENAI_KEY\")"
   ]
  },
  {
   "cell_type": "code",
   "execution_count": 13,
   "id": "08ccbb65",
   "metadata": {},
   "outputs": [],
   "source": [
    "df = pd.read_csv('../../data/phmrc/phmrc_adult_tokenized.csv')"
   ]
  },
  {
   "cell_type": "code",
   "execution_count": 14,
   "id": "dda66077",
   "metadata": {},
   "outputs": [],
   "source": [
    "label_to_score = {\n",
    "    'aids-tb': 0,\n",
    "    'communicable': 1,\n",
    "    'external': 2,\n",
    "    'maternal': 3, \n",
    "    'non-communicable': 4\n",
    "}\n",
    "\n",
    "score_to_label = {\n",
    "    0: 'aids-tb',\n",
    "    1: 'communicable',\n",
    "    2: 'external',\n",
    "    3: 'maternal',\n",
    "    4: 'non-communicable' \n",
    "}"
   ]
  },
  {
   "cell_type": "code",
   "execution_count": 15,
   "id": "c1888e2e",
   "metadata": {},
   "outputs": [],
   "source": [
    "def extract_score(label: str) -> float:\n",
    "    label = label.lower()\n",
    "    if label not in label_to_score:\n",
    "        print(label)\n",
    "        return 0\n",
    "    return label_to_score[label]"
   ]
  },
  {
   "cell_type": "code",
   "execution_count": 39,
   "id": "87b345c3",
   "metadata": {},
   "outputs": [],
   "source": [
    "prompt_template = \"\"\"\n",
    "<narrative>\n",
    "INPUT\n",
    "</narrative>\n",
    "\n",
    "<labels>\n",
    "aids-tb: Patient died resulting from HIV-AIDs or Tuberculosis.\n",
    "communicable: Patient died from a communicable disease which is defined as \n",
    "illnesses that spread from one human to another such as pneumonia, diarrhea \n",
    "or dysentery.\n",
    "external: Patient died from external causes including as accidents like fires,\n",
    "drowning, road traffic, falls, poisonous animals and violence like suicide, \n",
    "homicide, or other injuries.\n",
    "maternal: Patient died from complications related to pregnancy or childbirth \n",
    "including from severe bleeding, sepsis, pre-eclampsia and eclampsia.\n",
    "non-communicable: Patient died from a non-communicable disease which is defined\n",
    "as illnesses that cannot be transmitted from one human to another such as cirrhosis,\n",
    "epilepsy, acute myocardial infarction, copd, renal failure, cancer, diabetes,\n",
    "stroke, malaria, asthma, or other non-communicable diseases.\n",
    "</labels>\n",
    "\n",
    "<options>\n",
    "aids-tb, \n",
    "communicable, \n",
    "external, \n",
    "maternal, \n",
    "non-communicable\n",
    "</options>\n",
    "\n",
    "\n",
    "Which label best applies applies to the narrative (aids-tb, communicable, external, maternal, non-communicable)?\n",
    "Limit your response to one of the options exactly as it appears in the list.\n",
    "\"\"\""
   ]
  },
  {
   "cell_type": "code",
   "execution_count": 37,
   "id": "78f843a8",
   "metadata": {},
   "outputs": [],
   "source": [
    "def inspect_narrative(row):\n",
    "    print('Narrative: ' + df['narrative'][row])\n",
    "    print('True Label: ' + df['gs_text34'][row])\n",
    "    print('Broad Category: ' + df['gs_cod'][row])\n",
    "    print('Embedding Representation: ' + str(label_to_score[df['gs_cod'][row]]))\n",
    "    print('GPT-Response: ' + response)"
   ]
  },
  {
   "cell_type": "code",
   "execution_count": 50,
   "id": "889240e2",
   "metadata": {},
   "outputs": [
    {
     "name": "stdout",
     "output_type": "stream",
     "text": [
      "Narrative: the deceased had been burnt and had lost mental balance and died within 1.5 hours of the accident.\n",
      "True Label: fires\n",
      "Broad Category: external\n",
      "Embedding Representation: 2\n",
      "GPT-Response: non-communicable\n"
     ]
    }
   ],
   "source": [
    "inspect_narrative()"
   ]
  },
  {
   "cell_type": "code",
   "execution_count": 47,
   "id": "1e93e136",
   "metadata": {},
   "outputs": [
    {
     "name": "stdout",
     "output_type": "stream",
     "text": [
      "external\n",
      "2\n"
     ]
    }
   ],
   "source": [
    "# test single one\n",
    "text = df['narrative'][5]\n",
    "\n",
    "# call GPT-4\n",
    "response = None\n",
    "while response is None:\n",
    "    try:\n",
    "        response = openai.ChatCompletion.create(\n",
    "        model=\"gpt-4-32k\",\n",
    "        messages=[\n",
    "                {\"role\": \"user\", \"content\": prompt_template.replace(\"INPUT\", text)},\n",
    "            ],\n",
    "        temperature=0\n",
    "        )\n",
    "    except Exception as e:\n",
    "        print(e)\n",
    "        time.sleep(1)\n",
    "\n",
    "score = extract_score(response[\"choices\"][0][\"message\"][\"content\"])\n",
    "print(response[\"choices\"][0][\"message\"][\"content\"])\n",
    "print(score)"
   ]
  },
  {
   "cell_type": "code",
   "execution_count": null,
   "id": "4d45e11f",
   "metadata": {},
   "outputs": [],
   "source": [
    "# run all narratives\n",
    "scores = {}\n",
    "for i, statement in tqdm(statements.iterrows()):\n",
    "    text = statement['statements_text']\n",
    "    # call GPT-4\n",
    "    response = None\n",
    "    while response is None:\n",
    "        try:\n",
    "            response = openai.ChatCompletion.create(\n",
    "            model=\"gpt-4\",\n",
    "            messages=[\n",
    "                    {\"role\": \"user\", \"content\": prompt_template.replace(\"INPUT\", text)},\n",
    "                ],\n",
    "            temperature=0\n",
    "            )\n",
    "        except Exception as e:\n",
    "            print(e)\n",
    "            time.sleep(1)\n",
    "\n",
    "    score = extract_score(response[\"choices\"][0][\"message\"][\"content\"])\n",
    "\n",
    "    scores[statement[\"date\"]] = score"
   ]
  },
  {
   "cell_type": "code",
   "execution_count": null,
   "id": "4a56d3b5",
   "metadata": {},
   "outputs": [],
   "source": []
  },
  {
   "cell_type": "code",
   "execution_count": null,
   "id": "88da3ec9",
   "metadata": {},
   "outputs": [],
   "source": []
  },
  {
   "cell_type": "code",
   "execution_count": null,
   "id": "7438e21d",
   "metadata": {},
   "outputs": [],
   "source": []
  },
  {
   "cell_type": "code",
   "execution_count": null,
   "id": "573d009b",
   "metadata": {},
   "outputs": [],
   "source": []
  }
 ],
 "metadata": {
  "kernelspec": {
   "display_name": "Python 3 (ipykernel)",
   "language": "python",
   "name": "python3"
  },
  "language_info": {
   "codemirror_mode": {
    "name": "ipython",
    "version": 3
   },
   "file_extension": ".py",
   "mimetype": "text/x-python",
   "name": "python",
   "nbconvert_exporter": "python",
   "pygments_lexer": "ipython3",
   "version": "3.11.5"
  }
 },
 "nbformat": 4,
 "nbformat_minor": 5
}
